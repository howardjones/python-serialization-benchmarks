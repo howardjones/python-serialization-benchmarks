{
 "cells": [
  {
   "cell_type": "code",
   "execution_count": 1,
   "metadata": {},
   "outputs": [],
   "source": [
    "import os\n",
    "import pandas as pd\n",
    "\n",
    "df = pd.read_csv(os.path.join('results', 'results-summary.csv'))"
   ]
  },
  {
   "cell_type": "code",
   "execution_count": 2,
   "metadata": {},
   "outputs": [
    {
     "data": {
      "text/plain": [
       "['bson', 'cbor', 'json', 'msgpack', 'parquet', 'pickle', 'protobuf', 'ujson']"
      ]
     },
     "execution_count": 2,
     "metadata": {},
     "output_type": "execute_result"
    }
   ],
   "source": [
    "sorted(set(df.name.values))"
   ]
  },
  {
   "cell_type": "code",
   "execution_count": 3,
   "metadata": {},
   "outputs": [],
   "source": [
    "# parquet & protobuf requires tuples\n",
    "df = df[(df['dtype'] != 'tuples') | (df['name'] == 'parquet') | (df['name'] == 'protobuf')]"
   ]
  },
  {
   "cell_type": "code",
   "execution_count": 4,
   "metadata": {},
   "outputs": [],
   "source": [
    "# single serde results\n",
    "single_df = df[df['items'] == 1].copy()\n",
    "\n",
    "# 1M objects serde results\n",
    "million_df = df[df['items'] == 1_000_000].copy()\n",
    "million_df['avg_object'] = million_df['avg'] / 1_000_000\n",
    "million_df['avg_serde_object'] = million_df['avg_serde'] / 1_000_000\n",
    "million_df['avg_serialized_size'] = million_df['serialized_size'] / 1_000_000\n",
    "\n",
    "# 1M serialization results\n",
    "ser_mil_df = million_df[million_df['fn'] == 'dump']"
   ]
  },
  {
   "cell_type": "code",
   "execution_count": 5,
   "metadata": {},
   "outputs": [
    {
     "data": {
      "text/html": [
       "<div>\n",
       "<style scoped>\n",
       "    .dataframe tbody tr th:only-of-type {\n",
       "        vertical-align: middle;\n",
       "    }\n",
       "\n",
       "    .dataframe tbody tr th {\n",
       "        vertical-align: top;\n",
       "    }\n",
       "\n",
       "    .dataframe thead th {\n",
       "        text-align: right;\n",
       "    }\n",
       "</style>\n",
       "<table border=\"1\" class=\"dataframe\">\n",
       "  <thead>\n",
       "    <tr style=\"text-align: right;\">\n",
       "      <th></th>\n",
       "      <th>name</th>\n",
       "      <th>dtype</th>\n",
       "      <th>fn</th>\n",
       "      <th>items</th>\n",
       "      <th>avg</th>\n",
       "      <th>avg_serde</th>\n",
       "      <th>baseline-ratio</th>\n",
       "      <th>baseline-speedup</th>\n",
       "      <th>serialized_size</th>\n",
       "    </tr>\n",
       "  </thead>\n",
       "  <tbody>\n",
       "    <tr>\n",
       "      <th>0</th>\n",
       "      <td>bson</td>\n",
       "      <td>dicts</td>\n",
       "      <td>dump</td>\n",
       "      <td>1</td>\n",
       "      <td>0.000017</td>\n",
       "      <td>0.000013</td>\n",
       "      <td>100.0000</td>\n",
       "      <td>1.00</td>\n",
       "      <td>498</td>\n",
       "    </tr>\n",
       "    <tr>\n",
       "      <th>5</th>\n",
       "      <td>bson</td>\n",
       "      <td>dicts</td>\n",
       "      <td>load</td>\n",
       "      <td>1</td>\n",
       "      <td>0.000008</td>\n",
       "      <td>0.000013</td>\n",
       "      <td>44.4444</td>\n",
       "      <td>2.25</td>\n",
       "      <td>498</td>\n",
       "    </tr>\n",
       "    <tr>\n",
       "      <th>10</th>\n",
       "      <td>cbor</td>\n",
       "      <td>dicts</td>\n",
       "      <td>dump</td>\n",
       "      <td>1</td>\n",
       "      <td>0.000004</td>\n",
       "      <td>0.000004</td>\n",
       "      <td>23.5294</td>\n",
       "      <td>4.25</td>\n",
       "      <td>435</td>\n",
       "    </tr>\n",
       "    <tr>\n",
       "      <th>15</th>\n",
       "      <td>cbor</td>\n",
       "      <td>dicts</td>\n",
       "      <td>load</td>\n",
       "      <td>1</td>\n",
       "      <td>0.000004</td>\n",
       "      <td>0.000004</td>\n",
       "      <td>22.2222</td>\n",
       "      <td>4.50</td>\n",
       "      <td>435</td>\n",
       "    </tr>\n",
       "    <tr>\n",
       "      <th>30</th>\n",
       "      <td>json</td>\n",
       "      <td>dicts</td>\n",
       "      <td>dump</td>\n",
       "      <td>1</td>\n",
       "      <td>0.000017</td>\n",
       "      <td>0.000017</td>\n",
       "      <td>100.0000</td>\n",
       "      <td>1.00</td>\n",
       "      <td>934</td>\n",
       "    </tr>\n",
       "  </tbody>\n",
       "</table>\n",
       "</div>"
      ],
      "text/plain": [
       "    name  dtype    fn  items       avg  avg_serde  baseline-ratio  \\\n",
       "0   bson  dicts  dump      1  0.000017   0.000013        100.0000   \n",
       "5   bson  dicts  load      1  0.000008   0.000013         44.4444   \n",
       "10  cbor  dicts  dump      1  0.000004   0.000004         23.5294   \n",
       "15  cbor  dicts  load      1  0.000004   0.000004         22.2222   \n",
       "30  json  dicts  dump      1  0.000017   0.000017        100.0000   \n",
       "\n",
       "    baseline-speedup  serialized_size  \n",
       "0               1.00              498  \n",
       "5               2.25              498  \n",
       "10              4.25              435  \n",
       "15              4.50              435  \n",
       "30              1.00              934  "
      ]
     },
     "execution_count": 5,
     "metadata": {},
     "output_type": "execute_result"
    }
   ],
   "source": [
    "single_df.head()"
   ]
  },
  {
   "cell_type": "code",
   "execution_count": 6,
   "metadata": {},
   "outputs": [
    {
     "data": {
      "text/html": [
       "<div>\n",
       "<style scoped>\n",
       "    .dataframe tbody tr th:only-of-type {\n",
       "        vertical-align: middle;\n",
       "    }\n",
       "\n",
       "    .dataframe tbody tr th {\n",
       "        vertical-align: top;\n",
       "    }\n",
       "\n",
       "    .dataframe thead th {\n",
       "        text-align: right;\n",
       "    }\n",
       "</style>\n",
       "<table border=\"1\" class=\"dataframe\">\n",
       "  <thead>\n",
       "    <tr style=\"text-align: right;\">\n",
       "      <th></th>\n",
       "      <th>name</th>\n",
       "      <th>dtype</th>\n",
       "      <th>fn</th>\n",
       "      <th>items</th>\n",
       "      <th>avg</th>\n",
       "      <th>avg_serde</th>\n",
       "      <th>baseline-ratio</th>\n",
       "      <th>baseline-speedup</th>\n",
       "      <th>serialized_size</th>\n",
       "      <th>avg_object</th>\n",
       "      <th>avg_serde_object</th>\n",
       "      <th>avg_serialized_size</th>\n",
       "    </tr>\n",
       "  </thead>\n",
       "  <tbody>\n",
       "    <tr>\n",
       "      <th>4</th>\n",
       "      <td>bson</td>\n",
       "      <td>dicts</td>\n",
       "      <td>dump</td>\n",
       "      <td>1000000</td>\n",
       "      <td>9.722888</td>\n",
       "      <td>7.926932</td>\n",
       "      <td>200.1367</td>\n",
       "      <td>0.4997</td>\n",
       "      <td>446883139</td>\n",
       "      <td>0.000010</td>\n",
       "      <td>0.000008</td>\n",
       "      <td>446.883139</td>\n",
       "    </tr>\n",
       "    <tr>\n",
       "      <th>9</th>\n",
       "      <td>bson</td>\n",
       "      <td>dicts</td>\n",
       "      <td>load</td>\n",
       "      <td>1000000</td>\n",
       "      <td>6.130976</td>\n",
       "      <td>7.926932</td>\n",
       "      <td>54.9966</td>\n",
       "      <td>1.8183</td>\n",
       "      <td>446883139</td>\n",
       "      <td>0.000006</td>\n",
       "      <td>0.000008</td>\n",
       "      <td>446.883139</td>\n",
       "    </tr>\n",
       "    <tr>\n",
       "      <th>14</th>\n",
       "      <td>cbor</td>\n",
       "      <td>dicts</td>\n",
       "      <td>dump</td>\n",
       "      <td>1000000</td>\n",
       "      <td>1.803696</td>\n",
       "      <td>3.801880</td>\n",
       "      <td>37.1274</td>\n",
       "      <td>2.6934</td>\n",
       "      <td>372329891</td>\n",
       "      <td>0.000002</td>\n",
       "      <td>0.000004</td>\n",
       "      <td>372.329891</td>\n",
       "    </tr>\n",
       "    <tr>\n",
       "      <th>19</th>\n",
       "      <td>cbor</td>\n",
       "      <td>dicts</td>\n",
       "      <td>load</td>\n",
       "      <td>1000000</td>\n",
       "      <td>5.800064</td>\n",
       "      <td>3.801880</td>\n",
       "      <td>52.0282</td>\n",
       "      <td>1.9220</td>\n",
       "      <td>372329891</td>\n",
       "      <td>0.000006</td>\n",
       "      <td>0.000004</td>\n",
       "      <td>372.329891</td>\n",
       "    </tr>\n",
       "    <tr>\n",
       "      <th>34</th>\n",
       "      <td>json</td>\n",
       "      <td>dicts</td>\n",
       "      <td>dump</td>\n",
       "      <td>1000000</td>\n",
       "      <td>4.858123</td>\n",
       "      <td>8.003020</td>\n",
       "      <td>100.0000</td>\n",
       "      <td>1.0000</td>\n",
       "      <td>781815927</td>\n",
       "      <td>0.000005</td>\n",
       "      <td>0.000008</td>\n",
       "      <td>781.815927</td>\n",
       "    </tr>\n",
       "  </tbody>\n",
       "</table>\n",
       "</div>"
      ],
      "text/plain": [
       "    name  dtype    fn    items       avg  avg_serde  baseline-ratio  \\\n",
       "4   bson  dicts  dump  1000000  9.722888   7.926932        200.1367   \n",
       "9   bson  dicts  load  1000000  6.130976   7.926932         54.9966   \n",
       "14  cbor  dicts  dump  1000000  1.803696   3.801880         37.1274   \n",
       "19  cbor  dicts  load  1000000  5.800064   3.801880         52.0282   \n",
       "34  json  dicts  dump  1000000  4.858123   8.003020        100.0000   \n",
       "\n",
       "    baseline-speedup  serialized_size  avg_object  avg_serde_object  \\\n",
       "4             0.4997        446883139    0.000010          0.000008   \n",
       "9             1.8183        446883139    0.000006          0.000008   \n",
       "14            2.6934        372329891    0.000002          0.000004   \n",
       "19            1.9220        372329891    0.000006          0.000004   \n",
       "34            1.0000        781815927    0.000005          0.000008   \n",
       "\n",
       "    avg_serialized_size  \n",
       "4            446.883139  \n",
       "9            446.883139  \n",
       "14           372.329891  \n",
       "19           372.329891  \n",
       "34           781.815927  "
      ]
     },
     "execution_count": 6,
     "metadata": {},
     "output_type": "execute_result"
    }
   ],
   "source": [
    "million_df.head()"
   ]
  },
  {
   "cell_type": "code",
   "execution_count": 7,
   "metadata": {},
   "outputs": [
    {
     "data": {
      "text/html": [
       "<div>\n",
       "<style scoped>\n",
       "    .dataframe tbody tr th:only-of-type {\n",
       "        vertical-align: middle;\n",
       "    }\n",
       "\n",
       "    .dataframe tbody tr th {\n",
       "        vertical-align: top;\n",
       "    }\n",
       "\n",
       "    .dataframe thead th {\n",
       "        text-align: right;\n",
       "    }\n",
       "</style>\n",
       "<table border=\"1\" class=\"dataframe\">\n",
       "  <thead>\n",
       "    <tr style=\"text-align: right;\">\n",
       "      <th></th>\n",
       "      <th>name</th>\n",
       "      <th>dtype</th>\n",
       "      <th>fn</th>\n",
       "      <th>items</th>\n",
       "      <th>avg</th>\n",
       "      <th>avg_serde</th>\n",
       "      <th>baseline-ratio</th>\n",
       "      <th>baseline-speedup</th>\n",
       "      <th>serialized_size</th>\n",
       "      <th>avg_object</th>\n",
       "      <th>avg_serde_object</th>\n",
       "      <th>avg_serialized_size</th>\n",
       "    </tr>\n",
       "  </thead>\n",
       "  <tbody>\n",
       "    <tr>\n",
       "      <th>4</th>\n",
       "      <td>bson</td>\n",
       "      <td>dicts</td>\n",
       "      <td>dump</td>\n",
       "      <td>1000000</td>\n",
       "      <td>9.722888</td>\n",
       "      <td>7.926932</td>\n",
       "      <td>200.1367</td>\n",
       "      <td>0.4997</td>\n",
       "      <td>446883139</td>\n",
       "      <td>0.000010</td>\n",
       "      <td>0.000008</td>\n",
       "      <td>446.883139</td>\n",
       "    </tr>\n",
       "    <tr>\n",
       "      <th>14</th>\n",
       "      <td>cbor</td>\n",
       "      <td>dicts</td>\n",
       "      <td>dump</td>\n",
       "      <td>1000000</td>\n",
       "      <td>1.803696</td>\n",
       "      <td>3.801880</td>\n",
       "      <td>37.1274</td>\n",
       "      <td>2.6934</td>\n",
       "      <td>372329891</td>\n",
       "      <td>0.000002</td>\n",
       "      <td>0.000004</td>\n",
       "      <td>372.329891</td>\n",
       "    </tr>\n",
       "    <tr>\n",
       "      <th>34</th>\n",
       "      <td>json</td>\n",
       "      <td>dicts</td>\n",
       "      <td>dump</td>\n",
       "      <td>1000000</td>\n",
       "      <td>4.858123</td>\n",
       "      <td>8.003020</td>\n",
       "      <td>100.0000</td>\n",
       "      <td>1.0000</td>\n",
       "      <td>781815927</td>\n",
       "      <td>0.000005</td>\n",
       "      <td>0.000008</td>\n",
       "      <td>781.815927</td>\n",
       "    </tr>\n",
       "    <tr>\n",
       "      <th>54</th>\n",
       "      <td>msgpack</td>\n",
       "      <td>dicts</td>\n",
       "      <td>dump</td>\n",
       "      <td>1000000</td>\n",
       "      <td>1.234061</td>\n",
       "      <td>3.246158</td>\n",
       "      <td>25.4020</td>\n",
       "      <td>3.9367</td>\n",
       "      <td>373773160</td>\n",
       "      <td>0.000001</td>\n",
       "      <td>0.000003</td>\n",
       "      <td>373.773160</td>\n",
       "    </tr>\n",
       "    <tr>\n",
       "      <th>74</th>\n",
       "      <td>parquet</td>\n",
       "      <td>tuples</td>\n",
       "      <td>dump</td>\n",
       "      <td>1000000</td>\n",
       "      <td>3.360880</td>\n",
       "      <td>2.132360</td>\n",
       "      <td>95.7149</td>\n",
       "      <td>1.0448</td>\n",
       "      <td>294309649</td>\n",
       "      <td>0.000003</td>\n",
       "      <td>0.000002</td>\n",
       "      <td>294.309649</td>\n",
       "    </tr>\n",
       "  </tbody>\n",
       "</table>\n",
       "</div>"
      ],
      "text/plain": [
       "       name   dtype    fn    items       avg  avg_serde  baseline-ratio  \\\n",
       "4      bson   dicts  dump  1000000  9.722888   7.926932        200.1367   \n",
       "14     cbor   dicts  dump  1000000  1.803696   3.801880         37.1274   \n",
       "34     json   dicts  dump  1000000  4.858123   8.003020        100.0000   \n",
       "54  msgpack   dicts  dump  1000000  1.234061   3.246158         25.4020   \n",
       "74  parquet  tuples  dump  1000000  3.360880   2.132360         95.7149   \n",
       "\n",
       "    baseline-speedup  serialized_size  avg_object  avg_serde_object  \\\n",
       "4             0.4997        446883139    0.000010          0.000008   \n",
       "14            2.6934        372329891    0.000002          0.000004   \n",
       "34            1.0000        781815927    0.000005          0.000008   \n",
       "54            3.9367        373773160    0.000001          0.000003   \n",
       "74            1.0448        294309649    0.000003          0.000002   \n",
       "\n",
       "    avg_serialized_size  \n",
       "4            446.883139  \n",
       "14           372.329891  \n",
       "34           781.815927  \n",
       "54           373.773160  \n",
       "74           294.309649  "
      ]
     },
     "execution_count": 7,
     "metadata": {},
     "output_type": "execute_result"
    }
   ],
   "source": [
    "ser_mil_df.head()"
   ]
  },
  {
   "cell_type": "code",
   "execution_count": 8,
   "metadata": {},
   "outputs": [],
   "source": [
    "import altair as alt\n",
    "\n",
    "\n",
    "def make_bars_chart(df, title, scale_title=None, avg_col='avg', sqrt_scale=True,\n",
    "                   width=50, height=300, multi_bar=True, legend=True, labels=True):\n",
    "    source = df.copy()\n",
    "\n",
    "    if source[avg_col].median() > 1:\n",
    "        avg_scale = 'secs'\n",
    "        avg_coef = 1\n",
    "    elif source[avg_col].median() > 0.001:\n",
    "        avg_scale = 'ms'\n",
    "        avg_coef = 1e3\n",
    "    else:\n",
    "        avg_scale = 'µs'\n",
    "        avg_coef = 1e6\n",
    "\n",
    "    source[avg_scale] = (df[avg_col] * avg_coef).round(2)\n",
    "    \n",
    "    if not scale_title:\n",
    "        scale_titles = {\n",
    "            'secs': 'seconds',\n",
    "            'ms': 'milliseconds (1e−3 secs)',\n",
    "            'µs': 'microseconds (1e−6 secs)',\n",
    "        }\n",
    "        scale_title = scale_titles[avg_scale]\n",
    "    \n",
    "    if sqrt_scale:\n",
    "        y_scale = alt.Scale(type='sqrt')\n",
    "    else:\n",
    "        y_scale = alt.Scale()\n",
    "    \n",
    "    if multi_bar:\n",
    "        x_val = 'fn:N'\n",
    "        facet_kwds = {'column':'name:N'}\n",
    "    else:\n",
    "        x_val = 'name:N'\n",
    "        facet_kwds = {}\n",
    "\n",
    "    if legend:\n",
    "        legend = alt.Legend()\n",
    "    else:\n",
    "        legend = None\n",
    "\n",
    "    chart = alt.Chart(\n",
    "        width=width,\n",
    "        height=height,\n",
    "    ).mark_bar(\n",
    "        stroke='transparent',\n",
    "        size=20,\n",
    "    ).encode(\n",
    "        alt.X(x_val, scale=alt.Scale(), axis=alt.Axis(title='', labels=labels)),\n",
    "        alt.Y(f'{avg_scale}:Q', scale=y_scale, axis=alt.Axis(title=scale_title, grid=False)),\n",
    "        color=alt.Color(x_val, scale=alt.Scale(range=[\"#FF7B06\", \"#094AFB\"]), legend=legend),\n",
    "    )\n",
    "\n",
    "    text = chart.mark_text(\n",
    "        color='black',\n",
    "        dx = 0,\n",
    "        dy = -2,\n",
    "    ).encode(\n",
    "        text=f'{avg_scale}:Q'\n",
    "    )\n",
    "\n",
    "    return alt.layer(chart, text, data=source).facet(\n",
    "        **facet_kwds\n",
    "    ).configure_axis(\n",
    "        domainWidth=0.8\n",
    "    ).configure_view(\n",
    "        stroke='transparent'\n",
    "    ).properties(\n",
    "        title=title\n",
    "    )"
   ]
  },
  {
   "cell_type": "code",
   "execution_count": 9,
   "metadata": {},
   "outputs": [
    {
     "data": {
      "application/vnd.vegalite.v2+json": {
       "$schema": "https://vega.github.io/schema/vega-lite/v2.6.0.json",
       "config": {
        "axis": {
         "domainWidth": 0.8
        },
        "view": {
         "height": 300,
         "stroke": "transparent",
         "width": 400
        }
       },
       "data": {
        "name": "data-85e238ea4c3369047bb4d4f33725406d"
       },
       "datasets": {
        "data-85e238ea4c3369047bb4d4f33725406d": [
         {
          "avg": 1.7e-05,
          "avg_serde": 1.25e-05,
          "baseline-ratio": 100,
          "baseline-speedup": 1,
          "dtype": "dicts",
          "fn": "dump",
          "items": 1,
          "name": "bson",
          "serialized_size": 498,
          "µs": 17
         },
         {
          "avg": 8e-06,
          "avg_serde": 1.25e-05,
          "baseline-ratio": 44.4444,
          "baseline-speedup": 2.25,
          "dtype": "dicts",
          "fn": "load",
          "items": 1,
          "name": "bson",
          "serialized_size": 498,
          "µs": 8
         },
         {
          "avg": 4e-06,
          "avg_serde": 4e-06,
          "baseline-ratio": 23.5294,
          "baseline-speedup": 4.25,
          "dtype": "dicts",
          "fn": "dump",
          "items": 1,
          "name": "cbor",
          "serialized_size": 435,
          "µs": 4
         },
         {
          "avg": 4e-06,
          "avg_serde": 4e-06,
          "baseline-ratio": 22.2222,
          "baseline-speedup": 4.5,
          "dtype": "dicts",
          "fn": "load",
          "items": 1,
          "name": "cbor",
          "serialized_size": 435,
          "µs": 4
         },
         {
          "avg": 1.7e-05,
          "avg_serde": 1.75e-05,
          "baseline-ratio": 100,
          "baseline-speedup": 1,
          "dtype": "dicts",
          "fn": "dump",
          "items": 1,
          "name": "json",
          "serialized_size": 934,
          "µs": 17
         },
         {
          "avg": 1.8e-05,
          "avg_serde": 1.75e-05,
          "baseline-ratio": 100,
          "baseline-speedup": 1,
          "dtype": "dicts",
          "fn": "load",
          "items": 1,
          "name": "json",
          "serialized_size": 934,
          "µs": 18
         },
         {
          "avg": 4e-06,
          "avg_serde": 4e-06,
          "baseline-ratio": 23.5294,
          "baseline-speedup": 4.25,
          "dtype": "dicts",
          "fn": "dump",
          "items": 1,
          "name": "msgpack",
          "serialized_size": 437,
          "µs": 4
         },
         {
          "avg": 4e-06,
          "avg_serde": 4e-06,
          "baseline-ratio": 22.2222,
          "baseline-speedup": 4.5,
          "dtype": "dicts",
          "fn": "load",
          "items": 1,
          "name": "msgpack",
          "serialized_size": 437,
          "µs": 4
         },
         {
          "avg": 0.002292,
          "avg_serde": 0.001433,
          "baseline-ratio": 22920,
          "baseline-speedup": 0.0044,
          "dtype": "tuples",
          "fn": "dump",
          "items": 1,
          "name": "parquet",
          "serialized_size": 3829,
          "µs": 2292
         },
         {
          "avg": 0.0005740000000000001,
          "avg_serde": 0.001433,
          "baseline-ratio": 4100,
          "baseline-speedup": 0.0244,
          "dtype": "tuples",
          "fn": "load",
          "items": 1,
          "name": "parquet",
          "serialized_size": 3829,
          "µs": 574
         },
         {
          "avg": 4e-06,
          "avg_serde": 4.5e-06,
          "baseline-ratio": 23.5294,
          "baseline-speedup": 4.25,
          "dtype": "dicts",
          "fn": "dump",
          "items": 1,
          "name": "pickle",
          "serialized_size": 532,
          "µs": 4
         },
         {
          "avg": 5e-06,
          "avg_serde": 4.5e-06,
          "baseline-ratio": 27.7778,
          "baseline-speedup": 3.6,
          "dtype": "dicts",
          "fn": "load",
          "items": 1,
          "name": "pickle",
          "serialized_size": 532,
          "µs": 5
         },
         {
          "avg": 0.000173,
          "avg_serde": 0.00010449999999999999,
          "baseline-ratio": 1730,
          "baseline-speedup": 0.0578,
          "dtype": "tuples",
          "fn": "dump",
          "items": 1,
          "name": "protobuf",
          "serialized_size": 360,
          "µs": 173
         },
         {
          "avg": 3.6e-05,
          "avg_serde": 0.00010449999999999999,
          "baseline-ratio": 257.1429,
          "baseline-speedup": 0.3889,
          "dtype": "tuples",
          "fn": "load",
          "items": 1,
          "name": "protobuf",
          "serialized_size": 360,
          "µs": 36
         },
         {
          "avg": 6e-06,
          "avg_serde": 6e-06,
          "baseline-ratio": 35.2941,
          "baseline-speedup": 2.8333,
          "dtype": "dicts",
          "fn": "dump",
          "items": 1,
          "name": "ujson",
          "serialized_size": 915,
          "µs": 6
         },
         {
          "avg": 6e-06,
          "avg_serde": 6e-06,
          "baseline-ratio": 33.3333,
          "baseline-speedup": 3,
          "dtype": "dicts",
          "fn": "load",
          "items": 1,
          "name": "ujson",
          "serialized_size": 915,
          "µs": 6
         }
        ]
       },
       "facet": {
        "column": {
         "field": "name",
         "type": "nominal"
        }
       },
       "spec": {
        "layer": [
         {
          "encoding": {
           "color": {
            "field": "fn",
            "legend": {},
            "scale": {
             "range": [
              "#FF7B06",
              "#094AFB"
             ]
            },
            "type": "nominal"
           },
           "x": {
            "axis": {
             "labels": false,
             "title": ""
            },
            "field": "fn",
            "scale": {},
            "type": "nominal"
           },
           "y": {
            "axis": {
             "grid": false,
             "title": "microseconds (1e−6 secs)"
            },
            "field": "µs",
            "scale": {
             "type": "sqrt"
            },
            "type": "quantitative"
           }
          },
          "height": 300,
          "mark": {
           "size": 20,
           "stroke": "transparent",
           "type": "bar"
          },
          "width": 50
         },
         {
          "encoding": {
           "color": {
            "field": "fn",
            "legend": {},
            "scale": {
             "range": [
              "#FF7B06",
              "#094AFB"
             ]
            },
            "type": "nominal"
           },
           "text": {
            "field": "µs",
            "type": "quantitative"
           },
           "x": {
            "axis": {
             "labels": false,
             "title": ""
            },
            "field": "fn",
            "scale": {},
            "type": "nominal"
           },
           "y": {
            "axis": {
             "grid": false,
             "title": "microseconds (1e−6 secs)"
            },
            "field": "µs",
            "scale": {
             "type": "sqrt"
            },
            "type": "quantitative"
           }
          },
          "height": 300,
          "mark": {
           "color": "black",
           "dx": 0,
           "dy": -2,
           "type": "text"
          },
          "width": 50
         }
        ]
       },
       "title": "Serialization Time of a Single Object"
      },
      "image/png": "[encoded data removed]",
      "text/plain": [
       "<VegaLite 2 object>\n",
       "\n",
       "If you see this message, it means the renderer has not been properly enabled\n",
       "for the frontend that you are using. For more information, see\n",
       "https://altair-viz.github.io/user_guide/troubleshooting.html\n"
      ]
     },
     "execution_count": 9,
     "metadata": {},
     "output_type": "execute_result"
    }
   ],
   "source": [
    "make_bars_chart(\n",
    "    single_df,\n",
    "    title='Serialization Time of a Single Object',\n",
    "    sqrt_scale=True,\n",
    "    labels=False,\n",
    ")"
   ]
  },
  {
   "cell_type": "code",
   "execution_count": 10,
   "metadata": {},
   "outputs": [
    {
     "data": {
      "application/vnd.vegalite.v2+json": {
       "$schema": "https://vega.github.io/schema/vega-lite/v2.6.0.json",
       "config": {
        "axis": {
         "domainWidth": 0.8
        },
        "view": {
         "height": 300,
         "stroke": "transparent",
         "width": 400
        }
       },
       "data": {
        "name": "data-a794f04c8c482747d6aac612932af153"
       },
       "datasets": {
        "data-a794f04c8c482747d6aac612932af153": [
         {
          "avg": 9.722888000000001,
          "avg_object": 9.722888000000002e-06,
          "avg_serde": 7.926932000000001,
          "avg_serde_object": 7.926932000000001e-06,
          "avg_serialized_size": 446.883139,
          "baseline-ratio": 200.1367,
          "baseline-speedup": 0.4997,
          "dtype": "dicts",
          "fn": "dump",
          "items": 1000000,
          "name": "bson",
          "serialized_size": 446883139,
          "µs": 9.72
         },
         {
          "avg": 6.130976,
          "avg_object": 6.1309760000000004e-06,
          "avg_serde": 7.926932000000001,
          "avg_serde_object": 7.926932000000001e-06,
          "avg_serialized_size": 446.883139,
          "baseline-ratio": 54.9966,
          "baseline-speedup": 1.8183,
          "dtype": "dicts",
          "fn": "load",
          "items": 1000000,
          "name": "bson",
          "serialized_size": 446883139,
          "µs": 6.13
         },
         {
          "avg": 1.803696,
          "avg_object": 1.8036959999999999e-06,
          "avg_serde": 3.80188,
          "avg_serde_object": 3.8018800000000003e-06,
          "avg_serialized_size": 372.329891,
          "baseline-ratio": 37.1274,
          "baseline-speedup": 2.6934,
          "dtype": "dicts",
          "fn": "dump",
          "items": 1000000,
          "name": "cbor",
          "serialized_size": 372329891,
          "µs": 1.8
         },
         {
          "avg": 5.800064,
          "avg_object": 5.800064e-06,
          "avg_serde": 3.80188,
          "avg_serde_object": 3.8018800000000003e-06,
          "avg_serialized_size": 372.329891,
          "baseline-ratio": 52.0282,
          "baseline-speedup": 1.922,
          "dtype": "dicts",
          "fn": "load",
          "items": 1000000,
          "name": "cbor",
          "serialized_size": 372329891,
          "µs": 5.8
         },
         {
          "avg": 4.858123,
          "avg_object": 4.858123e-06,
          "avg_serde": 8.00302,
          "avg_serde_object": 8.003019999999999e-06,
          "avg_serialized_size": 781.815927,
          "baseline-ratio": 100,
          "baseline-speedup": 1,
          "dtype": "dicts",
          "fn": "dump",
          "items": 1000000,
          "name": "json",
          "serialized_size": 781815927,
          "µs": 4.86
         },
         {
          "avg": 11.147917,
          "avg_object": 1.1147917e-05,
          "avg_serde": 8.00302,
          "avg_serde_object": 8.003019999999999e-06,
          "avg_serialized_size": 781.815927,
          "baseline-ratio": 100,
          "baseline-speedup": 1,
          "dtype": "dicts",
          "fn": "load",
          "items": 1000000,
          "name": "json",
          "serialized_size": 781815927,
          "µs": 11.15
         },
         {
          "avg": 1.234061,
          "avg_object": 1.2340610000000002e-06,
          "avg_serde": 3.2461575000000003,
          "avg_serde_object": 3.2461575000000004e-06,
          "avg_serialized_size": 373.77316,
          "baseline-ratio": 25.401999999999997,
          "baseline-speedup": 3.9367,
          "dtype": "dicts",
          "fn": "dump",
          "items": 1000000,
          "name": "msgpack",
          "serialized_size": 373773160,
          "µs": 1.23
         },
         {
          "avg": 5.258254,
          "avg_object": 5.258254e-06,
          "avg_serde": 3.2461575000000003,
          "avg_serde_object": 3.2461575000000004e-06,
          "avg_serialized_size": 373.77316,
          "baseline-ratio": 47.168,
          "baseline-speedup": 2.1201,
          "dtype": "dicts",
          "fn": "load",
          "items": 1000000,
          "name": "msgpack",
          "serialized_size": 373773160,
          "µs": 5.26
         },
         {
          "avg": 3.3608800000000003,
          "avg_object": 3.36088e-06,
          "avg_serde": 2.13236,
          "avg_serde_object": 2.13236e-06,
          "avg_serialized_size": 294.309649,
          "baseline-ratio": 95.7149,
          "baseline-speedup": 1.0448,
          "dtype": "tuples",
          "fn": "dump",
          "items": 1000000,
          "name": "parquet",
          "serialized_size": 294309649,
          "µs": 3.36
         },
         {
          "avg": 0.90384,
          "avg_object": 9.0384e-07,
          "avg_serde": 2.13236,
          "avg_serde_object": 2.13236e-06,
          "avg_serialized_size": 294.309649,
          "baseline-ratio": 8.8073,
          "baseline-speedup": 11.3542,
          "dtype": "tuples",
          "fn": "load",
          "items": 1000000,
          "name": "parquet",
          "serialized_size": 294309649,
          "µs": 0.9
         },
         {
          "avg": 3.087295,
          "avg_object": 3.087295e-06,
          "avg_serde": 3.755861,
          "avg_serde_object": 3.755861e-06,
          "avg_serialized_size": 389.496209,
          "baseline-ratio": 63.5491,
          "baseline-speedup": 1.5736,
          "dtype": "dicts",
          "fn": "dump",
          "items": 1000000,
          "name": "pickle",
          "serialized_size": 389496209,
          "µs": 3.09
         },
         {
          "avg": 4.424427,
          "avg_object": 4.424427e-06,
          "avg_serde": 3.755861,
          "avg_serde_object": 3.755861e-06,
          "avg_serialized_size": 389.496209,
          "baseline-ratio": 39.6884,
          "baseline-speedup": 2.5196,
          "dtype": "dicts",
          "fn": "load",
          "items": 1000000,
          "name": "pickle",
          "serialized_size": 389496209,
          "µs": 4.42
         },
         {
          "avg": 52.989596999999996,
          "avg_object": 5.2989597e-05,
          "avg_serde": 48.664047,
          "avg_serde_object": 4.8664046999999995e-05,
          "avg_serialized_size": 299.458025,
          "baseline-ratio": 1509.0964,
          "baseline-speedup": 0.0663,
          "dtype": "tuples",
          "fn": "dump",
          "items": 1000000,
          "name": "protobuf",
          "serialized_size": 299458025,
          "µs": 52.99
         },
         {
          "avg": 44.338497,
          "avg_object": 4.4338496999999994e-05,
          "avg_serde": 48.664047,
          "avg_serde_object": 4.8664046999999995e-05,
          "avg_serialized_size": 299.458025,
          "baseline-ratio": 432.0485,
          "baseline-speedup": 0.2315,
          "dtype": "tuples",
          "fn": "load",
          "items": 1000000,
          "name": "protobuf",
          "serialized_size": 299458025,
          "µs": 44.34
         },
         {
          "avg": 2.698661,
          "avg_object": 2.698661e-06,
          "avg_serde": 4.7757835,
          "avg_serde_object": 4.7757835e-06,
          "avg_serialized_size": 759.753782,
          "baseline-ratio": 55.5495,
          "baseline-speedup": 1.8002,
          "dtype": "dicts",
          "fn": "dump",
          "items": 1000000,
          "name": "ujson",
          "serialized_size": 759753782,
          "µs": 2.7
         },
         {
          "avg": 6.852906,
          "avg_object": 6.852906e-06,
          "avg_serde": 4.7757835,
          "avg_serde_object": 4.7757835e-06,
          "avg_serialized_size": 759.753782,
          "baseline-ratio": 61.4725,
          "baseline-speedup": 1.6267,
          "dtype": "dicts",
          "fn": "load",
          "items": 1000000,
          "name": "ujson",
          "serialized_size": 759753782,
          "µs": 6.85
         }
        ]
       },
       "facet": {
        "column": {
         "field": "name",
         "type": "nominal"
        }
       },
       "spec": {
        "layer": [
         {
          "encoding": {
           "color": {
            "field": "fn",
            "legend": {},
            "scale": {
             "range": [
              "#FF7B06",
              "#094AFB"
             ]
            },
            "type": "nominal"
           },
           "x": {
            "axis": {
             "labels": false,
             "title": ""
            },
            "field": "fn",
            "scale": {},
            "type": "nominal"
           },
           "y": {
            "axis": {
             "grid": false,
             "title": "microseconds (1e−6 secs)"
            },
            "field": "µs",
            "scale": {
             "type": "sqrt"
            },
            "type": "quantitative"
           }
          },
          "height": 300,
          "mark": {
           "size": 20,
           "stroke": "transparent",
           "type": "bar"
          },
          "width": 50
         },
         {
          "encoding": {
           "color": {
            "field": "fn",
            "legend": {},
            "scale": {
             "range": [
              "#FF7B06",
              "#094AFB"
             ]
            },
            "type": "nominal"
           },
           "text": {
            "field": "µs",
            "type": "quantitative"
           },
           "x": {
            "axis": {
             "labels": false,
             "title": ""
            },
            "field": "fn",
            "scale": {},
            "type": "nominal"
           },
           "y": {
            "axis": {
             "grid": false,
             "title": "microseconds (1e−6 secs)"
            },
            "field": "µs",
            "scale": {
             "type": "sqrt"
            },
            "type": "quantitative"
           }
          },
          "height": 300,
          "mark": {
           "color": "black",
           "dx": 0,
           "dy": -2,
           "type": "text"
          },
          "width": 50
         }
        ]
       },
       "title": "Average Object Serialization Time (1M objects)"
      },
      "image/png": "[encoded data removed]",
      "text/plain": [
       "<VegaLite 2 object>\n",
       "\n",
       "If you see this message, it means the renderer has not been properly enabled\n",
       "for the frontend that you are using. For more information, see\n",
       "https://altair-viz.github.io/user_guide/troubleshooting.html\n"
      ]
     },
     "execution_count": 10,
     "metadata": {},
     "output_type": "execute_result"
    }
   ],
   "source": [
    "make_bars_chart(\n",
    "    million_df,\n",
    "    avg_col='avg_object',\n",
    "    title='Average Object Serialization Time (1M objects)',\n",
    "    sqrt_scale=True,\n",
    "    labels=False,\n",
    ")"
   ]
  },
  {
   "cell_type": "code",
   "execution_count": 11,
   "metadata": {},
   "outputs": [
    {
     "data": {
      "application/vnd.vegalite.v2+json": {
       "$schema": "https://vega.github.io/schema/vega-lite/v2.6.0.json",
       "config": {
        "axis": {
         "domainWidth": 0.8
        },
        "view": {
         "height": 300,
         "stroke": "transparent",
         "width": 400
        }
       },
       "data": {
        "name": "data-b382fde39e804e5ea942a440fcd03c51"
       },
       "datasets": {
        "data-b382fde39e804e5ea942a440fcd03c51": [
         {
          "avg": 9.722888000000001,
          "avg_object": 9.722888000000002e-06,
          "avg_serde": 7.926932000000001,
          "avg_serde_object": 7.926932000000001e-06,
          "avg_serialized_size": 446.883139,
          "baseline-ratio": 200.1367,
          "baseline-speedup": 0.4997,
          "dtype": "dicts",
          "fn": "dump",
          "items": 1000000,
          "name": "bson",
          "serialized_size": 446883139,
          "µs": 7.93
         },
         {
          "avg": 1.803696,
          "avg_object": 1.8036959999999999e-06,
          "avg_serde": 3.80188,
          "avg_serde_object": 3.8018800000000003e-06,
          "avg_serialized_size": 372.329891,
          "baseline-ratio": 37.1274,
          "baseline-speedup": 2.6934,
          "dtype": "dicts",
          "fn": "dump",
          "items": 1000000,
          "name": "cbor",
          "serialized_size": 372329891,
          "µs": 3.8
         },
         {
          "avg": 4.858123,
          "avg_object": 4.858123e-06,
          "avg_serde": 8.00302,
          "avg_serde_object": 8.003019999999999e-06,
          "avg_serialized_size": 781.815927,
          "baseline-ratio": 100,
          "baseline-speedup": 1,
          "dtype": "dicts",
          "fn": "dump",
          "items": 1000000,
          "name": "json",
          "serialized_size": 781815927,
          "µs": 8
         },
         {
          "avg": 1.234061,
          "avg_object": 1.2340610000000002e-06,
          "avg_serde": 3.2461575000000003,
          "avg_serde_object": 3.2461575000000004e-06,
          "avg_serialized_size": 373.77316,
          "baseline-ratio": 25.401999999999997,
          "baseline-speedup": 3.9367,
          "dtype": "dicts",
          "fn": "dump",
          "items": 1000000,
          "name": "msgpack",
          "serialized_size": 373773160,
          "µs": 3.25
         },
         {
          "avg": 3.3608800000000003,
          "avg_object": 3.36088e-06,
          "avg_serde": 2.13236,
          "avg_serde_object": 2.13236e-06,
          "avg_serialized_size": 294.309649,
          "baseline-ratio": 95.7149,
          "baseline-speedup": 1.0448,
          "dtype": "tuples",
          "fn": "dump",
          "items": 1000000,
          "name": "parquet",
          "serialized_size": 294309649,
          "µs": 2.13
         },
         {
          "avg": 3.087295,
          "avg_object": 3.087295e-06,
          "avg_serde": 3.755861,
          "avg_serde_object": 3.755861e-06,
          "avg_serialized_size": 389.496209,
          "baseline-ratio": 63.5491,
          "baseline-speedup": 1.5736,
          "dtype": "dicts",
          "fn": "dump",
          "items": 1000000,
          "name": "pickle",
          "serialized_size": 389496209,
          "µs": 3.76
         },
         {
          "avg": 52.989596999999996,
          "avg_object": 5.2989597e-05,
          "avg_serde": 48.664047,
          "avg_serde_object": 4.8664046999999995e-05,
          "avg_serialized_size": 299.458025,
          "baseline-ratio": 1509.0964,
          "baseline-speedup": 0.0663,
          "dtype": "tuples",
          "fn": "dump",
          "items": 1000000,
          "name": "protobuf",
          "serialized_size": 299458025,
          "µs": 48.66
         },
         {
          "avg": 2.698661,
          "avg_object": 2.698661e-06,
          "avg_serde": 4.7757835,
          "avg_serde_object": 4.7757835e-06,
          "avg_serialized_size": 759.753782,
          "baseline-ratio": 55.5495,
          "baseline-speedup": 1.8002,
          "dtype": "dicts",
          "fn": "dump",
          "items": 1000000,
          "name": "ujson",
          "serialized_size": 759753782,
          "µs": 4.78
         }
        ]
       },
       "facet": {},
       "spec": {
        "layer": [
         {
          "encoding": {
           "color": {
            "field": "name",
            "legend": null,
            "scale": {
             "range": [
              "#FF7B06",
              "#094AFB"
             ]
            },
            "type": "nominal"
           },
           "x": {
            "axis": {
             "labels": true,
             "title": ""
            },
            "field": "name",
            "scale": {},
            "type": "nominal"
           },
           "y": {
            "axis": {
             "grid": false,
             "title": "microseconds (1e−6 secs)"
            },
            "field": "µs",
            "scale": {
             "type": "sqrt"
            },
            "type": "quantitative"
           }
          },
          "height": 250,
          "mark": {
           "size": 20,
           "stroke": "transparent",
           "type": "bar"
          },
          "width": 500
         },
         {
          "encoding": {
           "color": {
            "field": "name",
            "legend": null,
            "scale": {
             "range": [
              "#FF7B06",
              "#094AFB"
             ]
            },
            "type": "nominal"
           },
           "text": {
            "field": "µs",
            "type": "quantitative"
           },
           "x": {
            "axis": {
             "labels": true,
             "title": ""
            },
            "field": "name",
            "scale": {},
            "type": "nominal"
           },
           "y": {
            "axis": {
             "grid": false,
             "title": "microseconds (1e−6 secs)"
            },
            "field": "µs",
            "scale": {
             "type": "sqrt"
            },
            "type": "quantitative"
           }
          },
          "height": 250,
          "mark": {
           "color": "black",
           "dx": 0,
           "dy": -2,
           "type": "text"
          },
          "width": 500
         }
        ]
       },
       "title": "Average Object Serialize & Deserialize Time (1M objects)"
      },
      "image/png": "[encoded data removed]",
      "text/plain": [
       "<VegaLite 2 object>\n",
       "\n",
       "If you see this message, it means the renderer has not been properly enabled\n",
       "for the frontend that you are using. For more information, see\n",
       "https://altair-viz.github.io/user_guide/troubleshooting.html\n"
      ]
     },
     "execution_count": 11,
     "metadata": {},
     "output_type": "execute_result"
    }
   ],
   "source": [
    "make_bars_chart(\n",
    "    ser_mil_df,\n",
    "    avg_col='avg_serde_object',\n",
    "    title='Average Object Serialize & Deserialize Time (1M objects)',\n",
    "    sqrt_scale=True,\n",
    "    width=500,\n",
    "    height=250,\n",
    "    multi_bar=False,\n",
    "    legend=False,\n",
    ")"
   ]
  },
  {
   "cell_type": "code",
   "execution_count": 12,
   "metadata": {},
   "outputs": [
    {
     "data": {
      "application/vnd.vegalite.v2+json": {
       "$schema": "https://vega.github.io/schema/vega-lite/v2.6.0.json",
       "config": {
        "axis": {
         "domainWidth": 0.8
        },
        "view": {
         "height": 300,
         "stroke": "transparent",
         "width": 400
        }
       },
       "data": {
        "name": "data-5041d64827229ec19697139d0a343fe5"
       },
       "datasets": {
        "data-5041d64827229ec19697139d0a343fe5": [
         {
          "avg": 9.722888000000001,
          "avg_object": 9.722888000000002e-06,
          "avg_serde": 7.926932000000001,
          "avg_serde_object": 7.926932000000001e-06,
          "avg_serialized_size": 446.883139,
          "baseline-ratio": 200.1367,
          "baseline-speedup": 0.4997,
          "dtype": "dicts",
          "fn": "dump",
          "items": 1000000,
          "name": "bson",
          "secs": 446.88,
          "serialized_size": 446883139
         },
         {
          "avg": 1.803696,
          "avg_object": 1.8036959999999999e-06,
          "avg_serde": 3.80188,
          "avg_serde_object": 3.8018800000000003e-06,
          "avg_serialized_size": 372.329891,
          "baseline-ratio": 37.1274,
          "baseline-speedup": 2.6934,
          "dtype": "dicts",
          "fn": "dump",
          "items": 1000000,
          "name": "cbor",
          "secs": 372.33,
          "serialized_size": 372329891
         },
         {
          "avg": 4.858123,
          "avg_object": 4.858123e-06,
          "avg_serde": 8.00302,
          "avg_serde_object": 8.003019999999999e-06,
          "avg_serialized_size": 781.815927,
          "baseline-ratio": 100,
          "baseline-speedup": 1,
          "dtype": "dicts",
          "fn": "dump",
          "items": 1000000,
          "name": "json",
          "secs": 781.82,
          "serialized_size": 781815927
         },
         {
          "avg": 1.234061,
          "avg_object": 1.2340610000000002e-06,
          "avg_serde": 3.2461575000000003,
          "avg_serde_object": 3.2461575000000004e-06,
          "avg_serialized_size": 373.77316,
          "baseline-ratio": 25.401999999999997,
          "baseline-speedup": 3.9367,
          "dtype": "dicts",
          "fn": "dump",
          "items": 1000000,
          "name": "msgpack",
          "secs": 373.77,
          "serialized_size": 373773160
         },
         {
          "avg": 3.3608800000000003,
          "avg_object": 3.36088e-06,
          "avg_serde": 2.13236,
          "avg_serde_object": 2.13236e-06,
          "avg_serialized_size": 294.309649,
          "baseline-ratio": 95.7149,
          "baseline-speedup": 1.0448,
          "dtype": "tuples",
          "fn": "dump",
          "items": 1000000,
          "name": "parquet",
          "secs": 294.31,
          "serialized_size": 294309649
         },
         {
          "avg": 3.087295,
          "avg_object": 3.087295e-06,
          "avg_serde": 3.755861,
          "avg_serde_object": 3.755861e-06,
          "avg_serialized_size": 389.496209,
          "baseline-ratio": 63.5491,
          "baseline-speedup": 1.5736,
          "dtype": "dicts",
          "fn": "dump",
          "items": 1000000,
          "name": "pickle",
          "secs": 389.5,
          "serialized_size": 389496209
         },
         {
          "avg": 52.989596999999996,
          "avg_object": 5.2989597e-05,
          "avg_serde": 48.664047,
          "avg_serde_object": 4.8664046999999995e-05,
          "avg_serialized_size": 299.458025,
          "baseline-ratio": 1509.0964,
          "baseline-speedup": 0.0663,
          "dtype": "tuples",
          "fn": "dump",
          "items": 1000000,
          "name": "protobuf",
          "secs": 299.46,
          "serialized_size": 299458025
         },
         {
          "avg": 2.698661,
          "avg_object": 2.698661e-06,
          "avg_serde": 4.7757835,
          "avg_serde_object": 4.7757835e-06,
          "avg_serialized_size": 759.753782,
          "baseline-ratio": 55.5495,
          "baseline-speedup": 1.8002,
          "dtype": "dicts",
          "fn": "dump",
          "items": 1000000,
          "name": "ujson",
          "secs": 759.75,
          "serialized_size": 759753782
         }
        ]
       },
       "facet": {},
       "spec": {
        "layer": [
         {
          "encoding": {
           "color": {
            "field": "name",
            "legend": null,
            "scale": {
             "range": [
              "#FF7B06",
              "#094AFB"
             ]
            },
            "type": "nominal"
           },
           "x": {
            "axis": {
             "labels": true,
             "title": ""
            },
            "field": "name",
            "scale": {},
            "type": "nominal"
           },
           "y": {
            "axis": {
             "grid": false,
             "title": "bytes"
            },
            "field": "secs",
            "scale": {},
            "type": "quantitative"
           }
          },
          "height": 250,
          "mark": {
           "size": 20,
           "stroke": "transparent",
           "type": "bar"
          },
          "width": 500
         },
         {
          "encoding": {
           "color": {
            "field": "name",
            "legend": null,
            "scale": {
             "range": [
              "#FF7B06",
              "#094AFB"
             ]
            },
            "type": "nominal"
           },
           "text": {
            "field": "secs",
            "type": "quantitative"
           },
           "x": {
            "axis": {
             "labels": true,
             "title": ""
            },
            "field": "name",
            "scale": {},
            "type": "nominal"
           },
           "y": {
            "axis": {
             "grid": false,
             "title": "bytes"
            },
            "field": "secs",
            "scale": {},
            "type": "quantitative"
           }
          },
          "height": 250,
          "mark": {
           "color": "black",
           "dx": 0,
           "dy": -2,
           "type": "text"
          },
          "width": 500
         }
        ]
       },
       "title": "Average Object Serialized Size (1M objects)"
      },
      "image/png": "[encoded data removed]",
      "text/plain": [
       "<VegaLite 2 object>\n",
       "\n",
       "If you see this message, it means the renderer has not been properly enabled\n",
       "for the frontend that you are using. For more information, see\n",
       "https://altair-viz.github.io/user_guide/troubleshooting.html\n"
      ]
     },
     "execution_count": 12,
     "metadata": {},
     "output_type": "execute_result"
    }
   ],
   "source": [
    "make_bars_chart(\n",
    "    ser_mil_df,\n",
    "    avg_col='avg_serialized_size',\n",
    "    scale_title='bytes',\n",
    "    title='Average Object Serialized Size (1M objects)',\n",
    "    sqrt_scale=False,\n",
    "    width=500,\n",
    "    height=250,\n",
    "    multi_bar=False,\n",
    "    legend=False,\n",
    ")"
   ]
  }
 ],
 "metadata": {
  "kernelspec": {
   "display_name": "Python 3",
   "language": "python",
   "name": "python3"
  },
  "language_info": {
   "codemirror_mode": {
    "name": "ipython",
    "version": 3
   },
   "file_extension": ".py",
   "mimetype": "text/x-python",
   "name": "python",
   "nbconvert_exporter": "python",
   "pygments_lexer": "ipython3",
   "version": "3.7.1"
  }
 },
 "nbformat": 4,
 "nbformat_minor": 2
}
